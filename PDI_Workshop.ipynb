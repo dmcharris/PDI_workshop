{
 "cells": [
  {
   "cell_type": "markdown",
   "metadata": {},
   "source": [
    "# Taller de Procesamiento Digital de Imágenes y Visión por Computador\n",
    "\n",
    "**Basado en:** \n",
    "Curso de Procesamiento Digital de Imágenes tomado en Univ. del Norte."
   ]
  },
  {
   "cell_type": "markdown",
   "metadata": {},
   "source": [
    "## 1. Básico de imágenes\n",
    "\n",
    "### Importando módulos"
   ]
  },
  {
   "cell_type": "code",
   "execution_count": null,
   "metadata": {},
   "outputs": [],
   "source": [
    "import cv2 #OpenCV\n",
    "import ipywidgets as widgets #Algunos widgets\n",
    "import numpy as np #Vectores y matrices\n",
    "from matplotlib import pyplot as plt #Gráficos\n",
    "from ipywidgets import interact, fixed #Interactuar con los widgets\n",
    "\n",
    "%matplotlib inline"
   ]
  },
  {
   "cell_type": "markdown",
   "metadata": {},
   "source": [
    "### Cargar imágenes"
   ]
  },
  {
   "cell_type": "code",
   "execution_count": null,
   "metadata": {},
   "outputs": [],
   "source": [
    "# Cargar una imagen es escala de grises.\n",
    "img_gris = cv2.imread('images/cameraman.png', cv2.IMREAD_GRAYSCALE)\n",
    "print(\"La resolución de la imagen es {0}\".format(img_gris.shape))\n",
    "\n",
    "# Visualizar una imagen.\n",
    "plt.imshow(img_gris, cmap='gray')\n",
    "plt.title('Imagen en escala de grises')\n",
    "plt.axis('off');"
   ]
  },
  {
   "cell_type": "code",
   "execution_count": null,
   "metadata": {},
   "outputs": [],
   "source": [
    "# Cargar una imagen a color.\n",
    "img_color = cv2.imread('images/monalisa.jpg', cv2.IMREAD_COLOR)\n",
    "print(\"La resolución de la imagen es {0}\".format(img_color.shape))\n",
    "\n",
    "# Transformar imagen BGR a RGB.\n",
    "img_color = cv2.cvtColor(img_color, cv2.COLOR_BGR2RGB)\n",
    "\n",
    "# Visualizar una imagen.\n",
    "plt.imshow(img_color)\n",
    "plt.title('Imagen a color')\n",
    "plt.axis('off');"
   ]
  },
  {
   "cell_type": "markdown",
   "metadata": {},
   "source": [
    "## 2. Manipulación de imágenes"
   ]
  },
  {
   "cell_type": "markdown",
   "metadata": {},
   "source": [
    "### Rotación"
   ]
  },
  {
   "cell_type": "code",
   "execution_count": null,
   "metadata": {},
   "outputs": [],
   "source": [
    "plt.figure(figsize=(12, 12))\n",
    "\n",
    "#Imagen original.\n",
    "plt.subplot(1,3,1)\n",
    "plt.imshow(img_color)\n",
    "plt.title('Imagen original')\n",
    "plt.axis('off');\n",
    "\n",
    "# Rotación horizontal.\n",
    "img_color_flip_horz = cv2.flip(img_color, 1)\n",
    "\n",
    "plt.subplot(1, 3, 2)\n",
    "plt.imshow(img_color_flip_horz)\n",
    "plt.title('Imagen rotada horizontalmente')\n",
    "plt.axis('off');\n",
    "\n",
    "# Rotación vertical.\n",
    "img_color_flip_vert = cv2.flip(img_color, 0)\n",
    "plt.subplot(1, 3, 3)\n",
    "plt.imshow(img_color_flip_vert)\n",
    "plt.title('Imagen rotada verticalmente')\n",
    "plt.axis('off');\n",
    "plt.tight_layout()\n"
   ]
  },
  {
   "cell_type": "markdown",
   "metadata": {},
   "source": [
    "### Negativo de una imagen"
   ]
  },
  {
   "cell_type": "code",
   "execution_count": null,
   "metadata": {},
   "outputs": [],
   "source": [
    "img = cv2.imread('images/cameraman.png', cv2.IMREAD_GRAYSCALE)\n",
    "img_neg = 255 - img\n",
    "\n",
    "plt.figure(figsize=(13, 13))\n",
    "plt.subplot(1, 2, 1)\n",
    "plt.imshow(img, cmap='gray')\n",
    "plt.title('Imagen original')\n",
    "plt.axis('off');\n",
    "\n",
    "plt.subplot(1, 2, 2)\n",
    "plt.imshow(img_neg, cmap='gray')\n",
    "plt.title('Negativo de imagen')\n",
    "plt.axis('off');\n",
    "plt.tight_layout()"
   ]
  },
  {
   "cell_type": "markdown",
   "metadata": {},
   "source": [
    "### Negativo de una imagen a color"
   ]
  },
  {
   "cell_type": "code",
   "execution_count": null,
   "metadata": {},
   "outputs": [],
   "source": [
    "img = cv2.cvtColor(cv2.imread('images/monalisa.jpg', cv2.IMREAD_COLOR),cv2.COLOR_BGR2RGB)\n",
    "img_neg = 255 - img\n",
    "plt.figure(figsize=(13, 13))\n",
    "plt.subplot(1, 2, 1)\n",
    "plt.imshow(img)\n",
    "plt.title('Imagen original')\n",
    "plt.axis('off');\n",
    "\n",
    "plt.subplot(1, 2, 2)\n",
    "plt.imshow(img_neg)\n",
    "plt.title('Negativo de imagen')\n",
    "plt.axis('off');\n",
    "plt.tight_layout()"
   ]
  },
  {
   "cell_type": "markdown",
   "metadata": {},
   "source": [
    "### Submuestreo"
   ]
  },
  {
   "cell_type": "code",
   "execution_count": null,
   "metadata": {},
   "outputs": [],
   "source": [
    "img = cv2.imread('images/cameraman.png', cv2.IMREAD_GRAYSCALE)\n",
    "def sub_img(img,factor):\n",
    "    img_smaller=cv2.resize(img, (0,0), fx=1/(2**factor), fy=1/(2**factor)) \n",
    "    plt.figure(figsize=(13, 13))\n",
    "    plt.subplot(1, 2, 1)\n",
    "    plt.imshow(img,cmap='gray')\n",
    "    plt.title('Imagen original')\n",
    "    plt.axis('off');\n",
    "\n",
    "    plt.subplot(1, 2, 2)\n",
    "    plt.imshow(img_smaller,cmap='gray')\n",
    "    plt.title('Imagen submuestrada con factor de '+ str(factor))\n",
    "    plt.axis('off');\n",
    "\n",
    "factor_slider = widgets.IntSlider(min=1, max=8, value=1, step=1, description='Factor')\n",
    "interact(sub_img, img=fixed(img), factor=factor_slider);"
   ]
  },
  {
   "cell_type": "code",
   "execution_count": null,
   "metadata": {},
   "outputs": [],
   "source": [
    "img = cv2.cvtColor(cv2.imread('images/monalisa.jpg', cv2.IMREAD_COLOR),cv2.COLOR_BGR2RGB)\n",
    "def sub_img(img,factor):\n",
    "    img_smaller=cv2.resize(img, (0,0), fx=1/(2**factor), fy=1/(2**factor)) \n",
    "    plt.figure(figsize=(13, 13))\n",
    "    plt.subplot(1, 2, 1)\n",
    "    plt.imshow(img)\n",
    "    plt.title('Imagen original')\n",
    "    plt.axis('off');\n",
    "\n",
    "    plt.subplot(1, 2, 2)\n",
    "    plt.imshow(img_smaller)\n",
    "    plt.title('Imagen submuestrada con factor de '+str(factor))\n",
    "    plt.axis('off')\n",
    "\n",
    "factor_slider = widgets.IntSlider(min=1, max=8, value=1, step=1, description='Factor')\n",
    "interact(sub_img, img=fixed(img), factor=factor_slider);"
   ]
  },
  {
   "cell_type": "markdown",
   "metadata": {},
   "source": [
    "### Reducción de niveles"
   ]
  },
  {
   "cell_type": "code",
   "execution_count": null,
   "metadata": {},
   "outputs": [],
   "source": [
    "img = cv2.imread('images/skull.bmp',cv2.IMREAD_GRAYSCALE)\n",
    "\n",
    "def lev_img(image,factor):\n",
    "    level = 2**factor\n",
    "\n",
    "    plt.figure()\n",
    "    plt.subplot(1,2,1)\n",
    "    plt.title('Original image')\n",
    "    plt.imshow(image,cmap='gray')\n",
    "    plt.axis('off')\n",
    "\n",
    "    img = image.copy()\n",
    "    for i in range(0,image.shape[0]):\n",
    "        for j in range(0,image.shape[1]):\n",
    "            img[i,j]=image[i,j]*level/256\n",
    "    img=img/np.max(img)*255\n",
    "    plt.subplot(1,2,2)\n",
    "    plt.imshow(img,cmap='gray')\n",
    "    plt.axis('off')\n",
    "    plt.title('Levels=%s' % level)\n",
    "    plt.show();\n",
    "\n",
    "factor_slider = widgets.IntSlider(min=1, max=8, value=1, step=1, description='# Bits')\n",
    "interact(lev_img, image=fixed(img), factor=factor_slider)"
   ]
  },
  {
   "cell_type": "markdown",
   "metadata": {},
   "source": [
    "### Unión entre dos imágenes (blending)"
   ]
  },
  {
   "cell_type": "code",
   "execution_count": null,
   "metadata": {},
   "outputs": [],
   "source": [
    "def blending(img,img_2,factor):\n",
    "    alpha = factor/10\n",
    "    plt.figure(figsize=(15, 15))\n",
    "    plt.subplot(1, 3, 1); plt.title('Imagen 1')\n",
    "    plt.imshow(img); plt.axis('off');\n",
    "\n",
    "    # Ajustar resolución entre imágenes.\n",
    "    plt.subplot(1, 3, 2); plt.title('Imagen 2')\n",
    "    plt.imshow(img_2); plt.axis('off');\n",
    "\n",
    "    img_blend = cv2.addWeighted(img, alpha, img_2, 1 - alpha, 0)\n",
    "    plt.subplot(1, 3, 3); plt.title('Unión de imágenes')\n",
    "    plt.imshow(img_blend); plt.axis('off');\n",
    "\n",
    "    \n",
    "img = cv2.imread('images/carnaval_.jpg', cv2.IMREAD_COLOR)\n",
    "img = cv2.cvtColor(img, cv2.COLOR_BGR2RGB)\n",
    "\n",
    "img_2 = cv2.imread('images/marimonda.jpg', cv2.IMREAD_COLOR)\n",
    "img_2 = cv2.cvtColor(img_2, cv2.COLOR_BGR2RGB)\n",
    "\n",
    "factor_slider = widgets.IntSlider(min=0, max=10, value=5, step=1, description='10 * Alpha')\n",
    "interact(blending, img=fixed(img),img_2 = fixed(img_2), factor=factor_slider)"
   ]
  },
  {
   "cell_type": "markdown",
   "metadata": {},
   "source": [
    "## 3. Operaciones orientadas al punto (píxel)"
   ]
  },
  {
   "cell_type": "markdown",
   "metadata": {},
   "source": [
    "### Umbralización de imágenes (segmentación)"
   ]
  },
  {
   "cell_type": "code",
   "execution_count": null,
   "metadata": {},
   "outputs": [],
   "source": [
    "img = cv2.imread('images/cameraman.png', cv2.IMREAD_GRAYSCALE)\n",
    "def umbr(img,value):\n",
    "    _, out_img = cv2.threshold(img, value, 255, cv2.THRESH_BINARY)\n",
    "\n",
    "    plt.figure(figsize=(9, 9))\n",
    "    plt.subplot(1, 2, 1)\n",
    "    plt.imshow(img, cmap='gray'); plt.axis('off')\n",
    "    plt.title('Imagen original');\n",
    "\n",
    "    plt.subplot(1, 2, 2)\n",
    "    plt.imshow(out_img, cmap='gray'); plt.axis('off')\n",
    "    plt.title('Umbralización de imagen con valor de ' + str(value));\n",
    "    \n",
    "factor_slider = widgets.IntSlider(min=0, max=255, value=130, step=1, description='Umbral')\n",
    "interact(umbr, img=fixed(img), value=factor_slider)"
   ]
  },
  {
   "cell_type": "code",
   "execution_count": null,
   "metadata": {},
   "outputs": [],
   "source": [
    "img = cv2.imread('images/sudoku.png', cv2.IMREAD_GRAYSCALE)\n",
    "_, out_img = cv2.threshold(img, 130, 255, cv2.THRESH_BINARY)\n",
    "img_gauss = cv2.adaptiveThreshold(img,255,cv2.ADAPTIVE_THRESH_GAUSSIAN_C,cv2.THRESH_BINARY,11,2)\n",
    "\n",
    "plt.figure(figsize=(9, 9))\n",
    "plt.subplot(1, 3, 1)\n",
    "plt.imshow(img, cmap='gray'); plt.axis('off')\n",
    "plt.title('Imagen original');\n",
    "\n",
    "plt.subplot(1, 3, 2)\n",
    "plt.imshow(out_img, cmap='gray'); plt.axis('off')\n",
    "plt.title('Umbralización con valor de 130');\n",
    "\n",
    "plt.subplot(1, 3, 3)\n",
    "plt.imshow(img_gauss, cmap='gray'); plt.axis('off')\n",
    "plt.title('Umbralización adaptativa gaussiana');\n"
   ]
  },
  {
   "cell_type": "markdown",
   "metadata": {},
   "source": [
    "### Falso color"
   ]
  },
  {
   "cell_type": "code",
   "execution_count": null,
   "metadata": {},
   "outputs": [],
   "source": [
    "def falseColor(image, T):\n",
    "    #Creating each channel \n",
    "    R = np.zeros((np.size(image,0),np.size(image,1)),dtype=np.uint8) \n",
    "    G = np.zeros((np.size(image,0),np.size(image,1)),dtype=np.uint8)\n",
    "    B = np.zeros((np.size(image,0),np.size(image,1)),dtype=np.uint8)\n",
    "\n",
    "    #Evaluate each pixel \n",
    "    for i in range(0,np.size(image,0)):\n",
    "        for j in range(0, np.size(image,1)):\n",
    "            if (image[i,j]<T):\n",
    "                #If the intensity is lower than T, put in Blue matrix\n",
    "                B[i,j] = 255\n",
    "            else:\n",
    "                #If the intensity is higher or equal than T, put in Green and Red matrix\n",
    "                #Yellow = Green + Red \n",
    "                G[i,j] = 255\n",
    "                R[i,j] = 255\n",
    "    image_f = np.dstack((R,G,B)) # Put each matrix in one array\n",
    "    plt.figure(figsize=(10,10)) \n",
    "    plt.subplot(1,2,1);plt.imshow(img,cmap='gray');plt.title('Original Image');plt.axis('off')\n",
    "    plt.subplot(1,2,2);plt.imshow(image_f);plt.title('Image with False Color, Threshold='+str(T));plt.axis('off')\n",
    "    plt.show()\n",
    "\n",
    "img = cv2.imread('images/weld_x-ray.jpg',cv2.IMREAD_GRAYSCALE)\n",
    "factor_slider = widgets.IntSlider(min=0, max=255, value=130, step=1, description='Umbral')\n",
    "interact(falseColor, image=fixed(img), T=factor_slider)"
   ]
  },
  {
   "cell_type": "markdown",
   "metadata": {},
   "source": [
    "### Pantalla verde"
   ]
  },
  {
   "cell_type": "markdown",
   "metadata": {},
   "source": [
    "### En RGB"
   ]
  },
  {
   "cell_type": "code",
   "execution_count": null,
   "metadata": {},
   "outputs": [],
   "source": [
    "img = cv2.imread('images/green_screen_2.jpg')\n",
    "img_bkg = cv2.imread('images/colombia_city_2.jpg')\n",
    "\n",
    "img_hsv = cv2.cvtColor(img, cv2.COLOR_BGR2HSV)\n",
    "img_bkg = cv2.cvtColor(img_bkg, cv2.COLOR_BGR2HSV)\n",
    "\n",
    "lower_green, upper_green = np.array([50, 50, 120]), np.array([70, 255, 255]) \n",
    "green_mask = cv2.inRange(img_hsv, lower_green, upper_green) #\n",
    "\n",
    "img_fg = cv2.bitwise_and(img_hsv, img_hsv, mask= 255 - green_mask)\n",
    "img_bg = cv2.bitwise_and(img_bkg, img_bkg, mask = green_mask)\n",
    "\n",
    "img_out = cv2.add(img_fg, img_bg)\n",
    "\n",
    "plt.figure(figsize=(17, 17))\n",
    "plt.subplot(1, 3, 1)\n",
    "plt.imshow(cv2.cvtColor(img_hsv, cv2.COLOR_HSV2RGB)); plt.axis('off');\n",
    "plt.subplot(1, 3, 2)\n",
    "plt.imshow(cv2.cvtColor(img_bkg, cv2.COLOR_HSV2RGB)); plt.axis('off');\n",
    "plt.subplot(1, 3, 3)\n",
    "plt.imshow(cv2.cvtColor(img_out, cv2.COLOR_HSV2RGB)); plt.axis('off');\n"
   ]
  },
  {
   "cell_type": "markdown",
   "metadata": {},
   "source": [
    "### En HSI"
   ]
  },
  {
   "cell_type": "code",
   "execution_count": null,
   "metadata": {},
   "outputs": [],
   "source": [
    "#Convierte una imagen de RGB a HSI\n",
    "def RGB2HSI(img):\n",
    "    #Getting R,G and B\n",
    "    R=img[:,:,0];G=img[:,:,1];B=img[:,:,2]\n",
    "    #Normalizing R,G and B\n",
    "    R=R/255;G=G/255;B=B/255\n",
    "    H=np.zeros(R.shape)\n",
    "    S=np.zeros(R.shape)\n",
    "    I=np.zeros(R.shape)\n",
    "    #Getting the HSI components Based on the book Digital Image Processing (Gonzalez & Woods)\n",
    "    #(small number added in the denominator)\n",
    "    arg=(0.5*((R-G)+(R-B)))/(10**-100+(R-G)**2+(R-B)*(G-B))**0.5\n",
    "    theta=np.arccos(arg)\n",
    "    theta=np.rad2deg(theta)\n",
    "    for row in range(0,H.shape[0]):\n",
    "        for column in range(0,H.shape[1]):\n",
    "            #Getting the H component\n",
    "            if B[row,column]<=G[row,column]:\n",
    "                H[row,column]=theta[row,column]\n",
    "            else:\n",
    "                H[row,column]=360-theta[row,column]\n",
    "            #Getting the S component \n",
    "            #(small number added in the denominator)\n",
    "            S[row,column]=1-3/(10**-100+R[row,column]+G[row,column]+B[row,column])*min(R[row,column],G[row,column],B[row,column])\n",
    "    #Getting the I cmponent\n",
    "    I=1/3*(R+G+B)\n",
    "    return cv2.merge((H,S,I))\n",
    "\n",
    "#Reemplazo de pantalla verde\n",
    "def replaceGB(image,bg):\n",
    "    #Convert RGB to HSI\n",
    "    img_hsi = RGB2HSI(image)\n",
    "    #Split each component (H,S,I)\n",
    "    H=img_hsi[:,:,0]\n",
    "    S=img_hsi[:,:,1]\n",
    "    I=img_hsi[:,:,2]\n",
    "\n",
    "    #Resize Background to Image's resolution\n",
    "    bg = cv2.resize(bg,(np.size(image,1),np.size(image,0)))\n",
    "\n",
    "    #Creating image\n",
    "    image_GB = np.zeros((np.size(image,0),np.size(image,1),np.size(image,2)))\n",
    "\n",
    "    #Evaluate each pixel \n",
    "    for i in range(0,np.size(image,0)):\n",
    "        for j in range(0, np.size(image,1)):\n",
    "            if ((H[i,j])>90 and (H[i,j]<150)):\n",
    "                #If the Hue is between 90 degrees and 150 degrees (Green section)\n",
    "                #Replace with background\n",
    "                image.itemset((i,j,0),bg.item(i,j,0))\n",
    "                image.itemset((i,j,1),bg.item(i,j,1))\n",
    "                image.itemset((i,j,2),bg.item(i,j,2))\n",
    "\n",
    "    image_GB = image\n",
    "    \n",
    "    return image_GB"
   ]
  },
  {
   "cell_type": "code",
   "execution_count": null,
   "metadata": {},
   "outputs": [],
   "source": [
    "img = cv2.imread('images/green_screen_2.jpg',cv2.IMREAD_COLOR)\n",
    "img = cv2.cvtColor(img,cv2.COLOR_BGR2RGB)\n",
    "\n",
    "backg = cv2.imread('images/colombia_city_2.jpg',cv2.IMREAD_COLOR)\n",
    "backg = cv2.cvtColor(backg,cv2.COLOR_BGR2RGB)\n",
    "\n",
    "\n",
    "plt.figure() \n",
    "plt.subplot(1,2,1);plt.imshow(img);plt.title('Original Image');plt.axis('off')\n",
    "img_gb = replaceGB(img,backg)\n",
    "plt.subplot(1,2,2);plt.imshow(img_gb);plt.title('Background');plt.axis('off')\n",
    "plt.show()\n"
   ]
  },
  {
   "cell_type": "markdown",
   "metadata": {},
   "source": [
    "## 4. Operaciones espaciales\n",
    "\n",
    "### Suavizado"
   ]
  },
  {
   "cell_type": "code",
   "execution_count": null,
   "metadata": {},
   "outputs": [],
   "source": [
    "def filter_img(img, k_size):\n",
    "    img = cv2.imread('images/frog.jpg', cv2.IMREAD_GRAYSCALE)\n",
    "    kernel = np.ones((k_size, k_size)) * 1 / (k_size ** 2)\n",
    "\n",
    "    img_out = cv2.filter2D(img, -1, kernel)\n",
    "    plt.figure(figsize=(7, 7))\n",
    "    plt.imshow(img_out, cmap='gray')\n",
    "    plt.title('Imagen suavizada con kernel de tamaño {0}'.format(k_size))\n",
    "    plt.axis('off');plt.show()\n",
    "\n",
    "filter_slider = widgets.IntSlider(min=1, max=35, value=5, step=2, description='kernel')\n",
    "interact(filter_img, img=fixed(img), k_size=filter_slider);"
   ]
  },
  {
   "cell_type": "markdown",
   "metadata": {},
   "source": [
    "### Ruido de sal y pimienta"
   ]
  },
  {
   "cell_type": "code",
   "execution_count": null,
   "metadata": {},
   "outputs": [],
   "source": [
    "img = cv2.imread('images/saltpepper.png', cv2.IMREAD_GRAYSCALE)\n",
    "\n",
    "def salt_pepper(img,k_size):\n",
    "    \n",
    "    img_filt=cv2.medianBlur(img,k_size)\n",
    "    plt.figure(figsize=(13, 13))\n",
    "    plt.subplot(1, 2, 1)\n",
    "    plt.imshow(img,cmap ='gray')\n",
    "    plt.title('Imagen original')\n",
    "    plt.axis('off');\n",
    "\n",
    "    plt.subplot(1, 2, 2)\n",
    "    plt.imshow(img_filt,cmap ='gray')\n",
    "    plt.title('Imagen filtrada')\n",
    "    plt.axis('off');\n",
    "\n",
    "\n",
    "filter_slider = widgets.IntSlider(min=1, max=35, value=5, step=2, description='kernel')\n",
    "interact(salt_pepper, img=fixed(img), k_size=filter_slider);"
   ]
  },
  {
   "cell_type": "markdown",
   "metadata": {},
   "source": [
    "### Renderizado fotorrealístico"
   ]
  },
  {
   "cell_type": "code",
   "execution_count": null,
   "metadata": {},
   "outputs": [],
   "source": [
    "img = cv2.imread('images/animals.jpg')\n",
    "img = cv2.cvtColor(img, cv2.COLOR_BGR2RGB)\n",
    "\n",
    "plt.figure(figsize=(10, 10))\n",
    "plt.subplot(2, 2, 1)\n",
    "plt.imshow(img); plt.title('Imagen original'); plt.axis('off')\n",
    "\n",
    "img_out = cv2.edgePreservingFilter(img)\n",
    "plt.subplot(2, 2, 2)\n",
    "plt.imshow(img_out); plt.title('Filtro promediado'); plt.axis('off');\n",
    "\n",
    "img_out = cv2.detailEnhance(img);\n",
    "plt.subplot(2, 2, 3)\n",
    "plt.imshow(img_out); plt.title('Realce de detalles'); plt.axis('off');\n",
    "\n",
    "cv2.stylization(img,img_out);\n",
    "plt.subplot(2, 2, 4)\n",
    "plt.imshow(img_out); plt.title('Imagen estilizada'); plt.axis('off');\n"
   ]
  },
  {
   "cell_type": "markdown",
   "metadata": {},
   "source": [
    "### Detección de bordes"
   ]
  },
  {
   "cell_type": "code",
   "execution_count": null,
   "metadata": {},
   "outputs": [],
   "source": [
    "img = cv2.imread('images/airplane.jpg', cv2.IMREAD_GRAYSCALE)\n",
    "\n",
    "plt.figure(figsize=(13, 13))\n",
    "plt.subplot(1, 2, 1)\n",
    "plt.imshow(img, cmap='gray'); plt.axis('off'); plt.title('Imagen original');\n",
    "\n",
    "img_edges = cv2.Canny(img, 200, 500)\n",
    "plt.subplot(1, 2, 2)\n",
    "plt.imshow(img_edges, cmap='gray'); plt.axis('off'); plt.title('Extracción de bordes');"
   ]
  },
  {
   "cell_type": "markdown",
   "metadata": {},
   "source": [
    "### Correlación de imágenes (asociación de plantillas)"
   ]
  },
  {
   "cell_type": "code",
   "execution_count": null,
   "metadata": {},
   "outputs": [],
   "source": [
    "img = cv2.imread('images/transmetro.jpg')\n",
    "img = cv2.cvtColor(img, cv2.COLOR_BGR2RGB)\n",
    "\n",
    "template = cv2.imread('images/template.png')\n",
    "template = cv2.cvtColor(template, cv2.COLOR_BGR2RGB)\n",
    "height, width, _ = template.shape\n",
    "\n",
    "plt.figure()\n",
    "plt.axis('off');plt.imshow(img); plt.title('Imagen original');\n",
    "plt.figure()\n",
    "plt.axis('off');plt.imshow(template); plt.title('Imagen plantilla');"
   ]
  },
  {
   "cell_type": "code",
   "execution_count": null,
   "metadata": {},
   "outputs": [],
   "source": [
    "res = cv2.matchTemplate(img, template, cv2.TM_CCOEFF)\n",
    "_, _, _, top_left = cv2.minMaxLoc(res)\n",
    "bottom_right = (top_left[0] + width, top_left[1] + height)\n",
    "cv2.rectangle(img,top_left, bottom_right, (0, 255, 0), 2)\n",
    "\n",
    "plt.imshow(img); plt.axis('off'); plt.title('Imagen de salida');"
   ]
  },
  {
   "cell_type": "markdown",
   "metadata": {},
   "source": [
    "#### Para múltiples objetos"
   ]
  },
  {
   "cell_type": "code",
   "execution_count": null,
   "metadata": {},
   "outputs": [],
   "source": [
    "img = cv2.imread('images/mario.png')\n",
    "img = cv2.cvtColor(img, cv2.COLOR_BGR2RGB)\n",
    "\n",
    "template = cv2.imread('images/coin.png')\n",
    "template = cv2.cvtColor(template, cv2.COLOR_BGR2RGB)\n",
    "height, width, _ = template.shape\n",
    "\n",
    "res = cv2.matchTemplate(img, template, cv2.TM_CCOEFF_NORMED)\n",
    "locations = np.where(res >= 0.8)\n",
    "for point in zip(locations[1], locations[0]):\n",
    "    cv2.rectangle(img, point, (point[0] + width, point[1] + height), (0, 255, 0), 2)\n",
    "\n",
    "plt.imshow(img); plt.axis('off'); plt.title('Imagen de salida');"
   ]
  },
  {
   "cell_type": "markdown",
   "metadata": {},
   "source": [
    "### Erosion y dilatación"
   ]
  },
  {
   "cell_type": "code",
   "execution_count": null,
   "metadata": {},
   "outputs": [],
   "source": [
    "img = cv2.imread('images/noisy_fingerprint.jpg',cv2.IMREAD_GRAYSCALE)\n",
    "#Create a square-shaped structuring element of size 3 by 3.\n",
    "SqrStruct=np.ones((3,3))\n",
    "#Perform opening of the input image  (erosion followed by dilation).\n",
    "opened_img = cv2.morphologyEx(img, cv2.MORPH_OPEN, SqrStruct)\n",
    "#Compute the closing of the result from b (dilation followed by erosion).\n",
    "closed_img = cv2.morphologyEx(opened_img, cv2.MORPH_CLOSE, SqrStruct)\n",
    "plt.figure(figsize=(7,7))\n",
    "plt.subplot(1,3,1)\n",
    "plt.imshow(img,cmap='gray')\n",
    "plt.subplot(1,3,2)\n",
    "plt.imshow(opened_img,cmap='gray')\n",
    "plt.title('First Step: Opening')\n",
    "plt.subplot(1,3,3)\n",
    "plt.imshow(closed_img,cmap='gray')\n",
    "plt.title('Final Step: Closening')\n",
    "plt.tight_layout()\n",
    "plt.show()"
   ]
  },
  {
   "cell_type": "markdown",
   "metadata": {},
   "source": [
    "## Detección de rostros"
   ]
  },
  {
   "cell_type": "code",
   "execution_count": null,
   "metadata": {},
   "outputs": [],
   "source": [
    "plt.figure(figsize=(15, 15))\n",
    "img = cv2.imread('images/hall.jpg')\n",
    "img = cv2.cvtColor(img, cv2.COLOR_BGR2RGB)\n",
    "plt.subplot(1, 2, 1)\n",
    "plt.imshow(img)\n",
    "plt.axis('off')\n",
    "plt.title('Imagen original')\n",
    "\n",
    "\n",
    "\n",
    "classifier_path = 'classifiers/haarcascade_frontalface_alt.xml'\n",
    "face_cascade = cv2.CascadeClassifier(classifier_path)\n",
    "\n",
    "faces = face_cascade.detectMultiScale(img,\n",
    "                                      scaleFactor=1.1,\n",
    "                                      minNeighbors=5,\n",
    "                                      minSize=(30, 30))\n",
    "for face_coords in faces:\n",
    "    x_point, y_point, width, height = face_coords\n",
    "    cv2.rectangle(img, (x_point, y_point), (x_point + width, y_point + height), (0, 255, 0), 2)\n",
    "\n",
    "plt.subplot(1, 2, 2)\n",
    "plt.imshow(img)\n",
    "plt.axis('off')\n",
    "plt.title('Rostros detectados');"
   ]
  }
 ],
 "metadata": {
  "kernelspec": {
   "display_name": "Python 3",
   "language": "python",
   "name": "python3"
  },
  "language_info": {
   "codemirror_mode": {
    "name": "ipython",
    "version": 3
   },
   "file_extension": ".py",
   "mimetype": "text/x-python",
   "name": "python",
   "nbconvert_exporter": "python",
   "pygments_lexer": "ipython3",
   "version": "3.6.7"
  }
 },
 "nbformat": 4,
 "nbformat_minor": 2
}
